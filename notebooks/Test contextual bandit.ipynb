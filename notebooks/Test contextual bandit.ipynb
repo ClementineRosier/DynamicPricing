{
 "cells": [
  {
   "cell_type": "code",
   "execution_count": 1,
   "metadata": {},
   "outputs": [],
   "source": [
    "import numpy as np\n",
    "import seaborn as sns\n",
    "import pandas as pd\n",
    "import matplotlib.pyplot as plt\n",
    "from collections import Counter"
   ]
  },
  {
   "cell_type": "code",
   "execution_count": 46,
   "metadata": {},
   "outputs": [
    {
     "name": "stdout",
     "output_type": "stream",
     "text": [
      "The autoreload extension is already loaded. To reload it, use:\n",
      "  %reload_ext autoreload\n"
     ]
    }
   ],
   "source": [
    "import sys\n",
    "sys.path.append(\"C:/Users/clementine.rosier/OneDrive - Ekimetrics/Documents/GitHub/dynamic_pricing\")\n",
    "\n",
    "%load_ext autoreload\n",
    "%autoreload 2"
   ]
  },
  {
   "cell_type": "code",
   "execution_count": 172,
   "metadata": {},
   "outputs": [],
   "source": [
    "from src.context_generator import ContextGenerator\n",
    "from src.simulation_with_context import ContextualDemandSimulation\n",
    "from src.context_bandit import ContextBandit"
   ]
  },
  {
   "cell_type": "code",
   "execution_count": 233,
   "metadata": {},
   "outputs": [
    {
     "name": "stdout",
     "output_type": "stream",
     "text": [
      "ContextBandit model instanciated with 3 arms.\n"
     ]
    }
   ],
   "source": [
    "# Instanciate context\n",
    "mu_context = [1,2,3]\n",
    "sigma_context = [2,3,2]\n",
    "n_discrete = [2,3]\n",
    "context_generator = ContextGenerator(mu_context, sigma_context, n_discrete)\n",
    "\n",
    "# Instanciate demand simulation\n",
    "beta_c = [1,2,1] \n",
    "beta_d = [[1,2], [6,8,3]]\n",
    "mu_e = 2\n",
    "sigma_e = 5\n",
    "demand_simulation = ContextualDemandSimulation(beta_c, beta_d, mu_e, sigma_e)\n",
    "\n",
    "# Instanciate bandit\n",
    "size_context= len(mu_context) + sum(n_discrete) + 1\n",
    "\n",
    "k_p = [1,10,20]\n",
    "norm_mean = 0\n",
    "norm_std = 1\n",
    "m_0 = np.zeros(shape=(len(k_p),size_context)) + norm_mean\n",
    "q_0 = np.zeros(shape=(len(k_p),size_context)) + norm_std\n",
    "\n",
    "bandit=ContextBandit(k_p, size_context, m_0, q_0)"
   ]
  },
  {
   "cell_type": "code",
   "execution_count": 234,
   "metadata": {},
   "outputs": [],
   "source": [
    "hist = []\n",
    "# Exploration round\n",
    "for i in range(40):\n",
    "    for j in range(bandit.k):\n",
    "        bandit.chose_action(bandit_context, force_action=j)\n",
    "        price = k_p[bandit.action]\n",
    "        # Simulate context and observe reward\n",
    "        context_c, context_d = context_generator.simulate()\n",
    "        bandit_context = np.array(context_c + [y for x in context_d for y in x] + [1])\n",
    "        reward = demand_simulation.evaluate(price, context_c, context_d) * price\n",
    "        # Update params\n",
    "        bandit.update(reward, bandit_context)\n",
    "\n",
    "for i in range(100):\n",
    "    bandit.chose_action(bandit_context, method=\"thompson\")\n",
    "    price = k_p[bandit.action]\n",
    "    # Simulate context and observe reward\n",
    "    context_c, context_d = context_generator.simulate()\n",
    "    bandit_context = np.array(context_c + [y for x in context_d for y in x] + [1])\n",
    "    reward = demand_simulation.evaluate(price, context_c, context_d) * price\n",
    "    # Update params\n",
    "    bandit.update(reward, bandit_context)\n",
    "    hist.append(bandit.action)\n",
    "    "
   ]
  },
  {
   "cell_type": "code",
   "execution_count": 235,
   "metadata": {},
   "outputs": [
    {
     "name": "stdout",
     "output_type": "stream",
     "text": [
      "Bucket 1 -- Nb occ 2 -- Price 10\n",
      "Bucket 2 -- Nb occ 98 -- Price 20\n"
     ]
    }
   ],
   "source": [
    "occ = sorted(Counter(hist).items(), key = lambda k : k[1])\n",
    "for index, nb_occ in occ : \n",
    "    print(f\"Bucket {index} -- Nb occ {nb_occ} -- Price {bandit.k_p[index]}\")"
   ]
  }
 ],
 "metadata": {
  "kernelspec": {
   "display_name": "Python 3",
   "language": "python",
   "name": "python3"
  },
  "language_info": {
   "codemirror_mode": {
    "name": "ipython",
    "version": 3
   },
   "file_extension": ".py",
   "mimetype": "text/x-python",
   "name": "python",
   "nbconvert_exporter": "python",
   "pygments_lexer": "ipython3",
   "version": "3.7.3"
  }
 },
 "nbformat": 4,
 "nbformat_minor": 2
}
