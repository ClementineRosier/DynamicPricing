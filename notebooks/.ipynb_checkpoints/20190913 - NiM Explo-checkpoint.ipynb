{
 "cells": [
  {
   "cell_type": "code",
   "execution_count": 1,
   "metadata": {},
   "outputs": [],
   "source": [
    "import numpy as np\n",
    "import pandas as pd\n",
    "import matplotlib.pyplot as plt"
   ]
  },
  {
   "cell_type": "code",
   "execution_count": 2,
   "metadata": {},
   "outputs": [],
   "source": [
    "import sys\n",
    "sys.path.append(\"C:/git/dynamic_pricing/\")\n",
    "\n",
    "%load_ext autoreload\n",
    "%autoreload 2"
   ]
  },
  {
   "cell_type": "code",
   "execution_count": 3,
   "metadata": {},
   "outputs": [],
   "source": [
    "from src.simulations import SimpleSimulation\n",
    "from src.simple_bandit import SimpleBandit"
   ]
  },
  {
   "cell_type": "code",
   "execution_count": 111,
   "metadata": {},
   "outputs": [
    {
     "data": {
      "text/plain": [
       "39.10697937011719"
      ]
     },
     "execution_count": 111,
     "metadata": {},
     "output_type": "execute_result"
    }
   ],
   "source": [
    "simulation = SimpleSimulation(mu = 50, sigma=10)\n",
    "simulation.optimal_price"
   ]
  },
  {
   "cell_type": "code",
   "execution_count": 136,
   "metadata": {},
   "outputs": [
    {
     "name": "stdout",
     "output_type": "stream",
     "text": [
      "SimpleBandit model instanciated with 30 arms.\n"
     ]
    }
   ],
   "source": [
    "size = 30\n",
    "\n",
    "k_p = np.linspace(20,80,size)\n",
    "alpha_0 = np.repeat(50,size)\n",
    "beta_0 = np.repeat(0.5,size)\n",
    "a_0 = np.repeat(1,size)\n",
    "b_0 = np.repeat(1,size)\n",
    "\n",
    "\n",
    "bandit = SimpleBandit(k_p, alpha_0, beta_0, a_0, b_0)"
   ]
  },
  {
   "cell_type": "code",
   "execution_count": 137,
   "metadata": {
    "scrolled": true
   },
   "outputs": [],
   "source": [
    "hist = []\n",
    "# Exploration round\n",
    "for i in range(1000):\n",
    "    for j in range(bandit.k):\n",
    "        bandit.chose_action(force_action=j)\n",
    "        price = k_p[bandit.action]\n",
    "        reward = int(simulation.evaluate(price)) * price +1\n",
    "        bandit.update(bandit.action, reward)\n",
    "\n",
    "for i in range(2000):\n",
    "    bandit.chose_action(method=\"thompson\")\n",
    "    price = k_p[bandit.action]\n",
    "    reward = int(simulation.evaluate(price)) * price\n",
    "    bandit.update(bandit.action, reward)\n",
    "    hist.append(bandit.action)"
   ]
  },
  {
   "cell_type": "code",
   "execution_count": 138,
   "metadata": {},
   "outputs": [
    {
     "data": {
      "text/plain": [
       "[(21, 2),\n",
       " (22, 4),\n",
       " (20, 12),\n",
       " (19, 14),\n",
       " (18, 21),\n",
       " (0, 49),\n",
       " (16, 59),\n",
       " (15, 63),\n",
       " (1, 66),\n",
       " (17, 74),\n",
       " (2, 76),\n",
       " (4, 89),\n",
       " (14, 94),\n",
       " (3, 96),\n",
       " (9, 119),\n",
       " (13, 128),\n",
       " (11, 132),\n",
       " (5, 133),\n",
       " (7, 134),\n",
       " (12, 144),\n",
       " (6, 154),\n",
       " (8, 155),\n",
       " (10, 182)]"
      ]
     },
     "execution_count": 138,
     "metadata": {},
     "output_type": "execute_result"
    }
   ],
   "source": [
    "sorted(Counter(hist).items(), key = lambda k : k[1])"
   ]
  }
 ],
 "metadata": {
  "kernelspec": {
   "display_name": "Python 3",
   "language": "python",
   "name": "python3"
  },
  "language_info": {
   "codemirror_mode": {
    "name": "ipython",
    "version": 3
   },
   "file_extension": ".py",
   "mimetype": "text/x-python",
   "name": "python",
   "nbconvert_exporter": "python",
   "pygments_lexer": "ipython3",
   "version": "3.6.0"
  }
 },
 "nbformat": 4,
 "nbformat_minor": 2
}
