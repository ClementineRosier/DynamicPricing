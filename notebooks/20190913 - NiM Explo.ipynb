{
 "cells": [
  {
   "cell_type": "code",
   "execution_count": 8,
   "metadata": {},
   "outputs": [],
   "source": [
    "import numpy as np\n",
    "import pandas as pd\n",
    "import matplotlib.pyplot as plt\n",
    "from collections import Counter"
   ]
  },
  {
   "cell_type": "code",
   "execution_count": 2,
   "metadata": {},
   "outputs": [],
   "source": [
    "import sys\n",
    "sys.path.append(\"C:/git/dynamic_pricing/\")\n",
    "\n",
    "%load_ext autoreload\n",
    "%autoreload 2"
   ]
  },
  {
   "cell_type": "code",
   "execution_count": 3,
   "metadata": {},
   "outputs": [],
   "source": [
    "from src.simulations import SimpleSimulation\n",
    "from src.simple_bandit import SimpleBandit"
   ]
  },
  {
   "cell_type": "code",
   "execution_count": 29,
   "metadata": {},
   "outputs": [
    {
     "data": {
      "text/plain": [
       "84.07829284667969"
      ]
     },
     "execution_count": 29,
     "metadata": {},
     "output_type": "execute_result"
    }
   ],
   "source": [
    "simulation = SimpleSimulation(mu = 100, sigma=10)\n",
    "simulation.optimal_price"
   ]
  },
  {
   "cell_type": "code",
   "execution_count": 33,
   "metadata": {},
   "outputs": [
    {
     "name": "stdout",
     "output_type": "stream",
     "text": [
      "SimpleBandit model instanciated with 30 arms.\n"
     ]
    }
   ],
   "source": [
    "size = 30\n",
    "\n",
    "k_p = np.linspace(20,80,size)\n",
    "alpha_0 = np.repeat(50,size)\n",
    "beta_0 = np.repeat(0.5,size)\n",
    "a_0 = np.repeat(1,size)\n",
    "b_0 = np.repeat(1,size)\n",
    "\n",
    "\n",
    "bandit = SimpleBandit(k_p, alpha_0, beta_0, a_0, b_0)"
   ]
  },
  {
   "cell_type": "code",
   "execution_count": 34,
   "metadata": {
    "scrolled": true
   },
   "outputs": [],
   "source": [
    "hist = []\n",
    "# Exploration round\n",
    "for i in range(300):\n",
    "    for j in range(bandit.k):\n",
    "        bandit.chose_action(force_action=j)\n",
    "        price = k_p[bandit.action]\n",
    "        reward = int(simulation.evaluate(price)) * price +1\n",
    "        bandit.update(bandit.action, reward)\n",
    "\n",
    "for i in range(3000):\n",
    "    bandit.chose_action(method=\"thompson\")\n",
    "    price = k_p[bandit.action]\n",
    "    reward = int(simulation.evaluate(price)) * price\n",
    "    bandit.update(bandit.action, reward)\n",
    "    hist.append(bandit.action)"
   ]
  },
  {
   "cell_type": "code",
   "execution_count": 35,
   "metadata": {},
   "outputs": [
    {
     "name": "stdout",
     "output_type": "stream",
     "text": [
      "Bucket 0 -- Nb occ 8 -- Price 20.0\n",
      "Bucket 1 -- Nb occ 12 -- Price 22.06896551724138\n",
      "Bucket 3 -- Nb occ 15 -- Price 26.20689655172414\n",
      "Bucket 2 -- Nb occ 16 -- Price 24.137931034482758\n",
      "Bucket 7 -- Nb occ 30 -- Price 34.48275862068966\n",
      "Bucket 5 -- Nb occ 30 -- Price 30.344827586206897\n",
      "Bucket 4 -- Nb occ 30 -- Price 28.275862068965516\n",
      "Bucket 6 -- Nb occ 36 -- Price 32.41379310344828\n",
      "Bucket 8 -- Nb occ 39 -- Price 36.55172413793103\n",
      "Bucket 10 -- Nb occ 48 -- Price 40.689655172413794\n",
      "Bucket 9 -- Nb occ 50 -- Price 38.62068965517241\n",
      "Bucket 12 -- Nb occ 59 -- Price 44.827586206896555\n",
      "Bucket 11 -- Nb occ 63 -- Price 42.758620689655174\n",
      "Bucket 14 -- Nb occ 82 -- Price 48.96551724137932\n",
      "Bucket 16 -- Nb occ 88 -- Price 53.10344827586207\n",
      "Bucket 13 -- Nb occ 91 -- Price 46.896551724137936\n",
      "Bucket 15 -- Nb occ 94 -- Price 51.03448275862069\n",
      "Bucket 18 -- Nb occ 119 -- Price 57.24137931034483\n",
      "Bucket 17 -- Nb occ 119 -- Price 55.17241379310345\n",
      "Bucket 20 -- Nb occ 126 -- Price 61.37931034482759\n",
      "Bucket 19 -- Nb occ 127 -- Price 59.310344827586206\n",
      "Bucket 22 -- Nb occ 146 -- Price 65.51724137931035\n",
      "Bucket 23 -- Nb occ 156 -- Price 67.58620689655173\n",
      "Bucket 21 -- Nb occ 168 -- Price 63.44827586206897\n",
      "Bucket 24 -- Nb occ 178 -- Price 69.65517241379311\n",
      "Bucket 28 -- Nb occ 183 -- Price 77.93103448275863\n",
      "Bucket 26 -- Nb occ 195 -- Price 73.79310344827587\n",
      "Bucket 27 -- Nb occ 203 -- Price 75.86206896551724\n",
      "Bucket 25 -- Nb occ 223 -- Price 71.72413793103448\n",
      "Bucket 29 -- Nb occ 266 -- Price 80.0\n"
     ]
    }
   ],
   "source": [
    "occ = sorted(Counter(hist).items(), key = lambda k : k[1])\n",
    "for index, nb_occ in occ : \n",
    "    print(f\"Bucket {index} -- Nb occ {nb_occ} -- Price {bandit.k_p[index]}\")"
   ]
  }
 ],
 "metadata": {
  "kernelspec": {
   "display_name": "Python 3",
   "language": "python",
   "name": "python3"
  },
  "language_info": {
   "codemirror_mode": {
    "name": "ipython",
    "version": 3
   },
   "file_extension": ".py",
   "mimetype": "text/x-python",
   "name": "python",
   "nbconvert_exporter": "python",
   "pygments_lexer": "ipython3",
   "version": "3.6.0"
  }
 },
 "nbformat": 4,
 "nbformat_minor": 2
}
