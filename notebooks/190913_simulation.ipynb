{
 "cells": [
  {
   "cell_type": "code",
   "execution_count": 1,
   "metadata": {},
   "outputs": [],
   "source": [
    "import pandas as pd\n",
    "import numpy as np\n",
    "import scipy\n",
    "from scipy.stats import truncnorm\n",
    "import matplotlib.pyplot as plt\n",
    "import math\n",
    "%matplotlib notebook"
   ]
  },
  {
   "cell_type": "code",
   "execution_count": 2,
   "metadata": {},
   "outputs": [],
   "source": [
    "def from_pandas(inp):\n",
    "    try:\n",
    "        inp = inp.values\n",
    "    except:\n",
    "        pass\n",
    "    return inp\n",
    "def normal_distribution_function(x):\n",
    "    value = scipy.stats.norm.pdf(x,mean,std)\n",
    "    return value\n"
   ]
  },
  {
   "cell_type": "code",
   "execution_count": 9,
   "metadata": {},
   "outputs": [],
   "source": [
    "class simulation_simple:\n",
    "    \n",
    "    def __init__(self,mu,sigma,max_price):\n",
    "        self.mu=mu\n",
    "        self.sigma=sigma\n",
    "        self.date=0\n",
    "        \n",
    "        self.mean=self.mu +math.sqrt(self.sigma)*math.sqrt(2/math.pi)\n",
    "        self.var=self.sigma*(math.sqrt(2/math.pi)-2/math.pi)\n",
    "        \n",
    "        res = scipy.optimize.minimize(self.revenue, self.mu, method='nelder-mead')\n",
    "        self.p_max=res.x\n",
    "        self.rev_max = -self.revenue(self.p_max)\n",
    "    \n",
    "    def _simulate(self):\n",
    "        while True:\n",
    "            s=np.random.normal( self.mu,self.sigma,1)\n",
    "            if s >= 0:\n",
    "                break\n",
    "        return s\n",
    "\n",
    "    def _result(self,price,s):\n",
    "        self.result=s >=price\n",
    "        return self.result\n",
    "    \n",
    "    def test(self,price):\n",
    "        s = self._simulate()\n",
    "        self._result(price, s)\n",
    "        return \n",
    "    \n",
    "    def revenue(self, p):\n",
    "        return -(p/(self.mu**2*scipy.stats.norm.cdf(self.mu/self.sigma,loc=0, scale=1))*scipy.stats.norm.cdf((-p+self.mu)/self.sigma, loc=0, scale=1))\n"
   ]
  },
  {
   "cell_type": "code",
   "execution_count": null,
   "metadata": {},
   "outputs": [],
   "source": [
    "class simulation_context:\n",
    "    def __init__(self,m,beta,size_continu, mu_continu,sigma_continu, size_discrete,prob_discrete,n_discrete):\n",
    "        self.size_context=from_pandas(size_context)\n",
    "        self.mu=from_pandas(mu)\n",
    "        self.sigma=from_pandas(sigma)\n",
    "        self.date=0\n",
    "    \n",
    "    def _simulate(self)\n",
    "        y_c=np.random.multivariate_normal(self.mu_continu,self.sigma_continu, 1)\n",
    "        y_d=[np.random.multinomial(1,self.prob_discrete[i] ) for i in range(self.size_discrete)]\n",
    "        \n",
    "        \n"
   ]
  },
  {
   "cell_type": "code",
   "execution_count": 48,
   "metadata": {},
   "outputs": [
    {
     "ename": "ValueError",
     "evalue": "mean must be 1 dimensional",
     "output_type": "error",
     "traceback": [
      "\u001b[1;31m---------------------------------------------------------------------------\u001b[0m",
      "\u001b[1;31mValueError\u001b[0m                                Traceback (most recent call last)",
      "\u001b[1;32m<ipython-input-48-cb6016dfe8bf>\u001b[0m in \u001b[0;36m<module>\u001b[1;34m\u001b[0m\n\u001b[0;32m      1\u001b[0m \u001b[0mprob\u001b[0m\u001b[1;33m=\u001b[0m \u001b[0mnp\u001b[0m\u001b[1;33m.\u001b[0m\u001b[0marray\u001b[0m\u001b[1;33m(\u001b[0m\u001b[1;33m[\u001b[0m\u001b[1;33m[\u001b[0m\u001b[1;36m0.2\u001b[0m\u001b[1;33m,\u001b[0m\u001b[1;36m0.2\u001b[0m\u001b[1;33m,\u001b[0m\u001b[1;36m0.6\u001b[0m\u001b[1;33m]\u001b[0m\u001b[1;33m,\u001b[0m\u001b[1;33m[\u001b[0m\u001b[1;36m0.1\u001b[0m\u001b[1;33m,\u001b[0m\u001b[1;36m0.9\u001b[0m\u001b[1;33m,\u001b[0m\u001b[1;36m0\u001b[0m\u001b[1;33m]\u001b[0m\u001b[1;33m]\u001b[0m\u001b[1;33m)\u001b[0m\u001b[1;33m\u001b[0m\u001b[1;33m\u001b[0m\u001b[0m\n\u001b[1;32m----> 2\u001b[1;33m \u001b[0my\u001b[0m\u001b[1;33m=\u001b[0m\u001b[0mnp\u001b[0m\u001b[1;33m.\u001b[0m\u001b[0mrandom\u001b[0m\u001b[1;33m.\u001b[0m\u001b[0mmultivariate_normal\u001b[0m\u001b[1;33m(\u001b[0m\u001b[1;36m1.5\u001b[0m\u001b[1;33m,\u001b[0m\u001b[1;36m2\u001b[0m\u001b[1;33m,\u001b[0m\u001b[1;36m1\u001b[0m\u001b[1;33m)\u001b[0m\u001b[1;33m\u001b[0m\u001b[1;33m\u001b[0m\u001b[0m\n\u001b[0m\u001b[0;32m      3\u001b[0m \u001b[1;33m\u001b[0m\u001b[0m\n\u001b[0;32m      4\u001b[0m \u001b[0my\u001b[0m\u001b[1;33m\u001b[0m\u001b[1;33m\u001b[0m\u001b[0m\n",
      "\u001b[1;32mmtrand.pyx\u001b[0m in \u001b[0;36mmtrand.RandomState.multivariate_normal\u001b[1;34m()\u001b[0m\n",
      "\u001b[1;31mValueError\u001b[0m: mean must be 1 dimensional"
     ]
    }
   ],
   "source": [
    "prob= np.array([[0.2,0.2,0.6],[0.1,0.9,0]])\n",
    "y=np.random.multivariate_normal(prob[0],np.eyes(3))\n",
    "\n",
    "y"
   ]
  },
  {
   "cell_type": "code",
   "execution_count": 12,
   "metadata": {},
   "outputs": [],
   "source": [
    "test=simulation_simple(3,1.5,15)\n"
   ]
  },
  {
   "cell_type": "code",
   "execution_count": 13,
   "metadata": {},
   "outputs": [
    {
     "data": {
      "text/plain": [
       "(array([2.50246582]), array([0.17923297]))"
      ]
     },
     "execution_count": 13,
     "metadata": {},
     "output_type": "execute_result"
    },
    {
     "data": {
      "image/png": "[encoded data removed]",
      "text/plain": [
       "<Figure size 432x288 with 1 Axes>"
      ]
     },
     "metadata": {
      "needs_background": "light"
     },
     "output_type": "display_data"
    }
   ],
   "source": [
    "test._max()"
   ]
  },
  {
   "cell_type": "code",
   "execution_count": null,
   "metadata": {},
   "outputs": [],
   "source": [
    "test._properties()"
   ]
  },
  {
   "cell_type": "code",
   "execution_count": null,
   "metadata": {},
   "outputs": [],
   "source": [
    "test._result(2)"
   ]
  },
  {
   "cell_type": "code",
   "execution_count": null,
   "metadata": {},
   "outputs": [],
   "source": [
    "test.mu +math.sqrt(test.sigma)*math.sqrt(2/math.pi)"
   ]
  },
  {
   "cell_type": "code",
   "execution_count": null,
   "metadata": {},
   "outputs": [],
   "source": [
    "test"
   ]
  }
 ],
 "metadata": {
  "kernelspec": {
   "display_name": "Python 3",
   "language": "python",
   "name": "python3"
  },
  "language_info": {
   "codemirror_mode": {
    "name": "ipython",
    "version": 3
   },
   "file_extension": ".py",
   "mimetype": "text/x-python",
   "name": "python",
   "nbconvert_exporter": "python",
   "pygments_lexer": "ipython3",
   "version": "3.7.3"
  }
 },
 "nbformat": 4,
 "nbformat_minor": 2
}
