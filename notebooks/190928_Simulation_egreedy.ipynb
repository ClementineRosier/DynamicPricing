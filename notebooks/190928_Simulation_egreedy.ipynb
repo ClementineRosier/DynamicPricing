{
 "cells": [
  {
   "cell_type": "code",
   "execution_count": 1,
   "metadata": {},
   "outputs": [],
   "source": [
    "import numpy as np\n",
    "import seaborn as sns\n",
    "import pandas as pd\n",
    "import matplotlib.pyplot as plt\n",
    "import matplotlib\n",
    "from collections import Counter\n",
    "from scipy.stats import norm, beta, bernoulli\n"
   ]
  },
  {
   "cell_type": "code",
   "execution_count": 2,
   "metadata": {},
   "outputs": [],
   "source": [
    "import sys\n",
    "sys.path.append(\"C:/Users/clementine.rosier/OneDrive - Ekimetrics/Documents/GitHub/dynamic_pricing\")\n",
    "\n",
    "%load_ext autoreload\n",
    "%autoreload 2"
   ]
  },
  {
   "cell_type": "code",
   "execution_count": 3,
   "metadata": {},
   "outputs": [],
   "source": [
    "#simple simulations\n",
    "from src.simulations import SimpleSimulation\n",
    "from src.simulation_melange_gaussien import GMixSimulation\n",
    "from src.simulation_uniforme import UniformSimulation\n",
    "#simulations with context\n",
    "from src.context_generator import ContextGenerator\n",
    "from src.simulation_with_context import ContextualDemandSimulation\n",
    "#bandit algo\n",
    "from src.binomial_bandit import BinomialBandit\n",
    "from src.simple_bandit_greedy import GreedyBandit\n",
    "from src.simple_bandit_ucb import UCBBandit\n",
    "from src.context_bandit import ContextBandit\n",
    "#evaluation algo (regret)\n",
    "from src.evaluate_model import EvaluateBandit\n",
    "from src.evaluate_with_context import EvaluateBanditContext"
   ]
  },
  {
   "cell_type": "code",
   "execution_count": 4,
   "metadata": {},
   "outputs": [],
   "source": [
    "def plot_demand(simulation, min_price = 0, max_price = 150, n_points = 50, n_estimates_per_point = 40) : \n",
    "    prices = []\n",
    "    revenues = []\n",
    "    for price in np.linspace(min_price, max_price, n_points) : \n",
    "        revenues.extend( [int(simulation.evaluate(price)) * price for x in range(n_estimates_per_point)] )\n",
    "        prices.extend([price for x in range(n_estimates_per_point)])\n",
    "    \n",
    "    a = np.array([prices, revenues])\n",
    "\n",
    "    fig = plt.figure(figsize = (15,6), facecolor=\"w\")\n",
    "    ax = sns.lineplot(a[0], a[1])\n",
    "    ax.legend(\"\")"
   ]
  },
  {
   "cell_type": "code",
   "execution_count": 5,
   "metadata": {},
   "outputs": [],
   "source": [
    "def test_bandit_thompson(simulation,k_p, alpha_0, beta_0,init_round=10,test_round=5000):\n",
    "    hist = []\n",
    "    regret = []\n",
    "    reward_T = []\n",
    "    parameters=np.array([np.array([alpha_0]),np.array([beta_0])])\n",
    "    bandit = BinomialBandit(k_p, alpha_0, beta_0)\n",
    "    evaluation=EvaluateBandit(bandit,simulation)\n",
    "    print(evaluation.best_price)\n",
    "    # Exploration round\n",
    "    for i in range(init_round):\n",
    "        for j in range(bandit.k):\n",
    "            bandit.chose_action(force_action=j)\n",
    "            price = k_p[bandit.action]\n",
    "            reward = int(simulation.evaluate(price)) * price\n",
    "            bandit.update(bandit.action, reward)\n",
    "            regret.append(evaluation.get_regret(bandit.n_obs))\n",
    "            parameters = np.append(parameters,np.array([np.array([bandit.alpha_n]),np.array([bandit.beta_n])]),axis=1)\n",
    "\n",
    "    for i in range(test_round):\n",
    "        bandit.chose_action(method=\"thompson\")\n",
    "        price = k_p[bandit.action]\n",
    "        reward = int(simulation.evaluate(price)) * price\n",
    "        bandit.update(bandit.action, reward)\n",
    "        regret.append(evaluation.get_regret(bandit.n_obs))\n",
    "        hist.append(k_p[bandit.action])\n",
    "        parameters = np.append(parameters,np.array([np.array([bandit.alpha_n]),np.array([bandit.beta_n])]),axis=1)\n",
    "    return hist,regret,parameters"
   ]
  },
  {
   "cell_type": "code",
   "execution_count": 6,
   "metadata": {},
   "outputs": [],
   "source": [
    "def test_bandit_greedy(simulation,k_p,c,d,init_round=10,test_round=5000):\n",
    "    hist = []\n",
    "    regret = []\n",
    "    reward_T = []\n",
    "    bandit = GreedyBandit(k_p, d,c)\n",
    "    evaluation=EvaluateBandit(bandit,simulation)\n",
    "    # Exploration round\n",
    "    for i in range(init_round):\n",
    "        for j in range(bandit.k):\n",
    "            bandit.chose_action(force_action=j)\n",
    "            price = k_p[bandit.action]\n",
    "            reward = int(simulation.evaluate(price)) * price\n",
    "            regret.append(evaluation.get_regret(bandit.n_obs))\n",
    "            bandit.update(bandit.action, reward)\n",
    "\n",
    "    for i in range(test_round):\n",
    "        bandit.chose_action(method=\"greedy\")\n",
    "        price = k_p[bandit.action]\n",
    "        reward = int(simulation.evaluate(price)) * price\n",
    "        regret.append(evaluation.get_regret(bandit.n_obs))\n",
    "        bandit.update(bandit.action, reward)\n",
    "        hist.append(k_p[bandit.action])\n",
    "        \n",
    "    return hist,regret"
   ]
  },
  {
   "cell_type": "code",
   "execution_count": 7,
   "metadata": {},
   "outputs": [],
   "source": [
    "def test_bandit_ucb(simulation,k_p,init_round=10,test_round=5000):\n",
    "    hist = []\n",
    "    regret = []\n",
    "    reward_T = []\n",
    "    bandit = UCBBandit(k_p)\n",
    "    evaluation=EvaluateBandit(bandit,simulation)\n",
    "    # Exploration round\n",
    "    for i in range(init_round):\n",
    "        for j in range(bandit.k):\n",
    "            bandit.chose_action(force_action=j)\n",
    "            price = k_p[bandit.action]\n",
    "            reward = int(simulation.evaluate(price)) * price\n",
    "            regret.append(evaluation.get_regret(bandit.n_obs))\n",
    "            bandit.update(bandit.action, reward)\n",
    "            \n",
    "\n",
    "    for i in range(test_round):\n",
    "        bandit.chose_action(method=\"UCB\")\n",
    "        price = k_p[bandit.action]\n",
    "        reward = int(simulation.evaluate(price)) * price\n",
    "        regret.append(evaluation.get_regret(bandit.n_obs))\n",
    "        bandit.update(bandit.action, reward)\n",
    "        hist.append(k_p[bandit.action])\n",
    "        \n",
    "    return hist,regret"
   ]
  },
  {
   "cell_type": "markdown",
   "metadata": {},
   "source": [
    "# play with e_n-greedy parameters"
   ]
  },
  {
   "cell_type": "code",
   "execution_count": 8,
   "metadata": {},
   "outputs": [],
   "source": [
    "sim_u = UniformSimulation(35,75)"
   ]
  },
  {
   "cell_type": "code",
   "execution_count": 9,
   "metadata": {},
   "outputs": [],
   "source": [
    "size = 7\n",
    "k_p = np.linspace(5,120,size)"
   ]
  },
  {
   "cell_type": "code",
   "execution_count": 16,
   "metadata": {},
   "outputs": [
    {
     "name": "stdout",
     "output_type": "stream",
     "text": [
      "BinomialBandit model for espilon-greedy instanciated with 7 arms.\n",
      "BinomialBandit model for espilon-greedy instanciated with 7 arms.\n"
     ]
    }
   ],
   "source": [
    "c = 5\n",
    "d = 3\n",
    "greedy_uniform_1=test_bandit_greedy(sim_u,k_p, c, d,init_round=0,test_round=5000)\n",
    "greedy_uniform_2=test_bandit_greedy(sim_u,k_p, c, d,init_round=10,test_round=5000)"
   ]
  },
  {
   "cell_type": "code",
   "execution_count": 17,
   "metadata": {},
   "outputs": [
    {
     "name": "stdout",
     "output_type": "stream",
     "text": [
      "BinomialBandit model for espilon-greedy instanciated with 7 arms.\n",
      "BinomialBandit model for espilon-greedy instanciated with 7 arms.\n"
     ]
    }
   ],
   "source": [
    "c = 5\n",
    "d = 15\n",
    "greedy_uniform_3=test_bandit_greedy(sim_u,k_p, c, d,init_round=0,test_round=5000)\n",
    "greedy_uniform_4=test_bandit_greedy(sim_u,k_p, c, d,init_round=10,test_round=5000)"
   ]
  },
  {
   "cell_type": "code",
   "execution_count": 20,
   "metadata": {},
   "outputs": [
    {
     "name": "stdout",
     "output_type": "stream",
     "text": [
      "BinomialBandit model for espilon-greedy instanciated with 7 arms.\n",
      "BinomialBandit model for espilon-greedy instanciated with 7 arms.\n"
     ]
    }
   ],
   "source": [
    "c = 5\n",
    "d = 7\n",
    "greedy_uniform_5=test_bandit_greedy(sim_u,k_p, c, d,init_round=0,test_round=5000)\n",
    "greedy_uniform_6=test_bandit_greedy(sim_u,k_p, c, d,init_round=10,test_round=5000)"
   ]
  },
  {
   "cell_type": "code",
   "execution_count": 22,
   "metadata": {
    "scrolled": true
   },
   "outputs": [
    {
     "data": {
      "image/png": "[encoded data removed]",
      "text/plain": [
       "<Figure size 1440x720 with 1 Axes>"
      ]
     },
     "metadata": {
      "needs_background": "light"
     },
     "output_type": "display_data"
    }
   ],
   "source": [
    "plt.rcParams[\"figure.figsize\"] = (20,10)\n",
    "plt.plot(greedy_uniform_1[1],c='firebrick')\n",
    "plt.plot(greedy_uniform_2[1],c='lightcoral')\n",
    "plt.plot(greedy_uniform_3[1],c='blue')\n",
    "plt.plot(greedy_uniform_4[1],c='lightskyblue')\n",
    "plt.plot(greedy_uniform_5[1],c='seagreen')\n",
    "plt.plot(greedy_uniform_6[1],c='limegreen')\n",
    "plt.title('Pseudo-regret avec la méthode epsilon_n-greedy')\n",
    "plt.ylabel('Pseudo-regret')\n",
    "plt.xlabel('t')\n",
    "plt.axvline(x=70,c='black',linestyle='dashed')\n",
    "plt.legend((\"sans initialisation - (5,3)\",\"avec initialisation - (5,3)\",\"sans initialisation  - (5,15)\",\"avec initialisation - (5,15)\",\"sans initialisation - (5,7)\",\"avec initialisation - (5,7)\"))\n",
    "plt.savefig('greedy_uniform.png')"
   ]
  },
  {
   "cell_type": "code",
   "execution_count": null,
   "metadata": {},
   "outputs": [],
   "source": []
  }
 ],
 "metadata": {
  "kernelspec": {
   "display_name": "Python 3",
   "language": "python",
   "name": "python3"
  },
  "language_info": {
   "codemirror_mode": {
    "name": "ipython",
    "version": 3
   },
   "file_extension": ".py",
   "mimetype": "text/x-python",
   "name": "python",
   "nbconvert_exporter": "python",
   "pygments_lexer": "ipython3",
   "version": "3.7.3"
  }
 },
 "nbformat": 4,
 "nbformat_minor": 2
}
