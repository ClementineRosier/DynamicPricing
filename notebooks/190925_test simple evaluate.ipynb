{
 "cells": [
  {
   "cell_type": "code",
   "execution_count": 1,
   "metadata": {},
   "outputs": [],
   "source": [
    "import numpy as np\n",
    "import seaborn as sns\n",
    "import pandas as pd\n",
    "import matplotlib.pyplot as plt\n",
    "from collections import Counter\n",
    "from scipy.stats import norm, invgamma, beta, bernoulli\n",
    "%matplotlib notebook"
   ]
  },
  {
   "cell_type": "code",
   "execution_count": 2,
   "metadata": {},
   "outputs": [],
   "source": [
    "import sys\n",
    "sys.path.append(\"C:/Users/clementine.rosier/OneDrive - Ekimetrics/Documents/GitHub/dynamic_pricing\")\n",
    "\n",
    "%load_ext autoreload\n",
    "%autoreload 2"
   ]
  },
  {
   "cell_type": "code",
   "execution_count": 3,
   "metadata": {},
   "outputs": [],
   "source": [
    "from src.simulations import SimpleSimulation\n",
    "from src.simulation_melange_gaussien import GMixSimulation\n",
    "from src.simulation_uniforme import UniformSimulation\n",
    "from src.simple_bandit import SimpleBandit\n",
    "from src.binomial_bandit import BinomialBandit\n",
    "from src.context_generator import ContextGenerator\n",
    "from src.simulation_with_context import ContextualDemandSimulation\n",
    "from src.evaluate_model import EvaluateBandit\n",
    "from src.evaluate_with_context import EvaluateBanditContext\n",
    "from src.simple_bandit_greedy import GreedyBandit\n",
    "from src.simple_bandit_ucb import UCBBandit\n"
   ]
  },
  {
   "cell_type": "code",
   "execution_count": 4,
   "metadata": {},
   "outputs": [
    {
     "data": {
      "text/plain": [
       "50.04931640625"
      ]
     },
     "execution_count": 4,
     "metadata": {},
     "output_type": "execute_result"
    }
   ],
   "source": [
    "simulation = SimpleSimulation(mu = 60, sigma=30)\n",
    "simulation.optimal_price"
   ]
  },
  {
   "cell_type": "code",
   "execution_count": 5,
   "metadata": {
    "scrolled": true
   },
   "outputs": [
    {
     "data": {
      "text/plain": [
       "35.0000114440918"
      ]
     },
     "execution_count": 5,
     "metadata": {},
     "output_type": "execute_result"
    }
   ],
   "source": [
    "sim_u = UniformSimulation(35,60)\n",
    "sim_u.optimal_price"
   ]
  },
  {
   "cell_type": "code",
   "execution_count": 6,
   "metadata": {},
   "outputs": [
    {
     "data": {
      "text/plain": [
       "95.14131546020508"
      ]
     },
     "execution_count": 6,
     "metadata": {},
     "output_type": "execute_result"
    }
   ],
   "source": [
    "sim_mix=GMixSimulation(45,1,100,2,0.5)\n",
    "sim_mix.optimal_price\n"
   ]
  },
  {
   "cell_type": "code",
   "execution_count": 7,
   "metadata": {},
   "outputs": [],
   "source": [
    "beta_c=np.array([5,2,3])\n",
    "mu_c=np.array([3,50,87])\n",
    "sigma_c=np.array([1,9,10])\n",
    "beta_d=np.array([[1,-1],[2,100,-1]])\n",
    "n=np.array([2,3])\n",
    "mu_e=-300\n",
    "sigma_e=15\n",
    "#instantiate context simulation\n",
    "context_generator = ContextGenerator(mu_c,sigma_c,n)\n",
    "\n",
    "#instantiate demand simulation\n",
    "demand_simulation = ContextualDemandSimulation(beta_c, beta_d, mu_e, sigma_e)\n",
    "\n",
    "# Instanciate bandit\n",
    "size_context= len(mu_c) + sum(n) + 1\n",
    "\n",
    "k_p = [10,25,15,20,30,50,35,40,5]\n",
    "norm_mean = 0\n",
    "norm_std = 1\n",
    "m_0 = np.zeros(shape=(len(k_p),size_context)) + norm_mean\n",
    "q_0 = np.zeros(shape=(len(k_p),size_context)) + norm_std\n"
   ]
  },
  {
   "cell_type": "code",
   "execution_count": 8,
   "metadata": {},
   "outputs": [],
   "source": [
    "def plot_demand(simulation, min_price = 0, max_price = 150, n_points = 50, n_estimates_per_point = 40) : \n",
    "    prices = []\n",
    "    revenues = []\n",
    "    for price in np.linspace(min_price, max_price, n_points) : \n",
    "        revenues.extend( [int(simulation.evaluate(price)) * price for x in range(n_estimates_per_point)] )\n",
    "        prices.extend([price for x in range(n_estimates_per_point)])\n",
    "    \n",
    "    a = np.array([prices, revenues])\n",
    "\n",
    "    fig = plt.figure(figsize = (15,6), facecolor=\"w\")\n",
    "    ax = sns.lineplot(a[0], a[1])\n",
    "    ax.legend(\"\")"
   ]
  },
  {
   "cell_type": "code",
   "execution_count": 9,
   "metadata": {},
   "outputs": [
    {
     "ename": "SyntaxError",
     "evalue": "unexpected EOF while parsing (<ipython-input-9-c671950cb4f0>, line 4)",
     "output_type": "error",
     "traceback": [
      "\u001b[1;36m  File \u001b[1;32m\"<ipython-input-9-c671950cb4f0>\"\u001b[1;36m, line \u001b[1;32m4\u001b[0m\n\u001b[1;33m    savefig(fname,\u001b[0m\n\u001b[1;37m                  ^\u001b[0m\n\u001b[1;31mSyntaxError\u001b[0m\u001b[1;31m:\u001b[0m unexpected EOF while parsing\n"
     ]
    }
   ],
   "source": [
    "plot_demand(simulation)\n",
    "plot_demand(sim_u)\n",
    "plot_demand(sim_mix)\n",
    "savefig(fname,\n"
   ]
  },
  {
   "cell_type": "code",
   "execution_count": null,
   "metadata": {},
   "outputs": [],
   "source": [
    "def plot_demand_context(simulation,context_generator, min_price = 0, max_price = 400, n_points = 50, n_estimates_per_point = 100) : \n",
    "    prices = []\n",
    "    revenues = []\n",
    "    for price in np.linspace(min_price, max_price, n_points) : \n",
    "        context_c, context_d = context_generator.simulate()\n",
    "        revenues.extend( [simulation.evaluate(price,context_c, context_d) * price for x in range(n_estimates_per_point)] )\n",
    "        prices.extend([price for x in range(n_estimates_per_point)])\n",
    "    \n",
    "    a = np.array([prices, revenues])\n",
    "\n",
    "    fig = plt.figure(figsize = (15,6), facecolor=\"w\")\n",
    "    ax = sns.lineplot(a[0], a[1])\n",
    "    ax.legend(\"\")"
   ]
  },
  {
   "cell_type": "code",
   "execution_count": null,
   "metadata": {},
   "outputs": [],
   "source": [
    "\n",
    "plot_demand_context(demand_simulation,context_generator)\n"
   ]
  },
  {
   "cell_type": "code",
   "execution_count": null,
   "metadata": {},
   "outputs": [],
   "source": [
    "for _  in range(5):\n",
    "    sim_context._simulate()\n",
    "    print (sim_context.context[1])"
   ]
  },
  {
   "cell_type": "markdown",
   "metadata": {},
   "source": [
    "### Try simple bandit algorithm on the simulations"
   ]
  },
  {
   "cell_type": "code",
   "execution_count": null,
   "metadata": {},
   "outputs": [],
   "source": [
    "size = 100\n",
    "\n",
    "k_p = np.linspace(1,200,size)\n",
    "alpha_0 = np.repeat(1,size)\n",
    "beta_0 = np.repeat(1,size)\n",
    "\n",
    "bandit = BinomialBandit(k_p, alpha_0, beta_0)"
   ]
  },
  {
   "cell_type": "code",
   "execution_count": null,
   "metadata": {},
   "outputs": [],
   "source": [
    "def test_bandit_thompson(simulation,k_p, alpha_0, beta_0,init_round=10,test_round=5000):\n",
    "    hist = []\n",
    "    regret = []\n",
    "    reward_T = []\n",
    "    parameters=np.array([np.array([alpha_0]),np.array([beta_0])])\n",
    "    bandit = BinomialBandit(k_p, alpha_0, beta_0)\n",
    "    evaluation=EvaluateBandit(bandit,simulation)\n",
    "    # Exploration round\n",
    "    for i in range(init_round):\n",
    "        for j in range(bandit.k):\n",
    "            bandit.chose_action(force_action=j)\n",
    "            price = k_p[bandit.action]\n",
    "            reward = int(simulation.evaluate(price)) * price\n",
    "            regret.append(evaluation.get_regret(bandit.n_obs))\n",
    "            bandit.update(bandit.action, reward)\n",
    "            parameters = np.append(parameters,np.array([np.array([bandit.alpha_n]),np.array([bandit.beta_n])]),axis=1)\n",
    "\n",
    "    for i in range(test_round):\n",
    "        bandit.chose_action(method=\"thompson\")\n",
    "        price = k_p[bandit.action]\n",
    "        reward = int(simulation.evaluate(price)) * price\n",
    "        regret.append(evaluation.get_regret(bandit.n_obs))\n",
    "        bandit.update(bandit.action, reward)\n",
    "        hist.append(bandit.action)\n",
    "        parameters = np.append(parameters,np.array([np.array([bandit.alpha_n]),np.array([bandit.beta_n])]),axis=1)\n",
    "    return hist,regret,parameters"
   ]
  },
  {
   "cell_type": "code",
   "execution_count": null,
   "metadata": {},
   "outputs": [],
   "source": [
    "bandit_th_sim_u=test_bandit_thompson(sim_u)\n",
    "bandit__th_sim_mix=test_bandit_thompson(sim_mix)\n",
    "bandit_th_sim=test_bandit_thompson(simulation)\n",
    "\n"
   ]
  },
  {
   "cell_type": "code",
   "execution_count": null,
   "metadata": {},
   "outputs": [],
   "source": [
    "plt.plot(bandit_th_sim_mix[1])\n",
    "plt.plot(bandit_th_sim_u[1])\n",
    "plt.plot(bandit_th_sim[1])\n"
   ]
  },
  {
   "cell_type": "code",
   "execution_count": null,
   "metadata": {},
   "outputs": [],
   "source": [
    "fig = plt.figure(figsize=(10,5), facecolor=\"w\")\n",
    "ax = plt.subplot()\n",
    "for _mu, _sigma in zip(m,s):\n",
    "    plot_distrib_normal(_mu,_sigma, ax, x_min=-5000, x_max=5000, n_points=200)"
   ]
  },
  {
   "cell_type": "code",
   "execution_count": null,
   "metadata": {},
   "outputs": [],
   "source": [
    "def plot_distrib_beta(alpha_param, beta_param, ax, n_points = 100, label = None):\n",
    "    x = np.linspace(0, 1, n_points)\n",
    "    y = beta.pdf(x, alpha_param, beta_param)\n",
    "    ax.plot(x,y, label=label)\n",
    "    return ax\n",
    "\n",
    "def sample_theta(bandit):\n",
    "    # Sample sigma\n",
    "    theta = beta.rvs(bandit.alpha_n, bandit.beta_n)\n",
    "    plt.axvline(theta)\n",
    "    return theta"
   ]
  },
  {
   "cell_type": "code",
   "execution_count": null,
   "metadata": {},
   "outputs": [],
   "source": [
    "n_points = 100\n",
    "_beta =bandit_sim[2][1][1000][8]\n",
    "_alpha =bandit_sim[2][0][1000][8]\n",
    "x = np.linspace(0, 1, n_points)\n",
    "y = beta.pdf(x,_alpha, _beta)"
   ]
  },
  {
   "cell_type": "code",
   "execution_count": null,
   "metadata": {},
   "outputs": [],
   "source": [
    "fig = plt.figure(figsize=(10,5), facecolor=\"w\")\n",
    "ax = plt.subplot()\n",
    "for i in range(50):\n",
    "    _alpha = bandit_sim[2][0][i*100][25]\n",
    "    _beta = bandit_sim[2][1][i*100][25]\n",
    "    plot_distrib_beta(_alpha,_beta, ax,label=i)\n",
    "    i+=1\n",
    "    ax.legend()"
   ]
  },
  {
   "cell_type": "code",
   "execution_count": null,
   "metadata": {},
   "outputs": [],
   "source": [
    "#simulation somme de normale\n",
    "hist_uniform,regret_uniform=test_bandit(sim_u)\n",
    "\n",
    "occ = sorted(Counter(hist_uniform).items(), key = lambda k : k[1])\n",
    "for index, nb_occ in occ : \n",
    "    print(f\"Bucket {index} -- Nb occ {nb_occ} -- Price {bandit.k_p[index]}\")"
   ]
  },
  {
   "cell_type": "code",
   "execution_count": null,
   "metadata": {},
   "outputs": [],
   "source": []
  },
  {
   "cell_type": "code",
   "execution_count": null,
   "metadata": {},
   "outputs": [],
   "source": [
    "evaluation.T\n",
    "self.T*self.exp_revenue[self.best_action] - np.sum([self.n_obs[i]*self.exp_revenue[i] for i in range(len(self.k_p))])"
   ]
  },
  {
   "cell_type": "code",
   "execution_count": null,
   "metadata": {},
   "outputs": [],
   "source": [
    "bandit.n_obs"
   ]
  },
  {
   "cell_type": "code",
   "execution_count": null,
   "metadata": {},
   "outputs": [],
   "source": [
    "#simulation uniforme\n",
    "hist_u=test_bandit(sim_u)\n",
    "occ = sorted(Counter(hist_u).items(), key = lambda k : k[1])\n",
    "for index, nb_occ in occ : \n",
    "    print(f\"Bucket {index} -- Nb occ {nb_occ} -- Price {bandit.k_p[index]}\")"
   ]
  },
  {
   "cell_type": "code",
   "execution_count": null,
   "metadata": {},
   "outputs": [],
   "source": [
    "#simulation mélange gaussien\n",
    "hist_mix=test_bandit(sim_mix)\n",
    "occ = sorted(Counter(hist_mix).items(), key = lambda k : k[1])\n",
    "for index, nb_occ in occ : \n",
    "    print(f\"Bucket {index} -- Nb occ {nb_occ} -- Price {bandit.k_p[index]}\")"
   ]
  },
  {
   "cell_type": "code",
   "execution_count": null,
   "metadata": {},
   "outputs": [],
   "source": [
    "def test_bandit_greedy(simulation):\n",
    "    hist = []\n",
    "    regret = []\n",
    "    reward_T = []\n",
    "    c=5\n",
    "    d=7\n",
    "    bandit = GreedyBandit(k_p, d,c)\n",
    "    evaluation=EvaluateBandit(bandit,simulation)\n",
    "    # Exploration round\n",
    "    for i in range(10):\n",
    "        for j in range(bandit.k):\n",
    "            bandit.chose_action(force_action=j)\n",
    "            price = k_p[bandit.action]\n",
    "            reward = int(simulation.evaluate(price)) * price\n",
    "            regret.append(evaluation.get_regret(bandit.n_obs))\n",
    "            bandit.update(bandit.action, reward)\n",
    "\n",
    "    for i in range(5000):\n",
    "        bandit.chose_action(method=\"greedy\")\n",
    "        price = k_p[bandit.action]\n",
    "        reward = int(simulation.evaluate(price)) * price\n",
    "        regret.append(evaluation.get_regret(bandit.n_obs))\n",
    "        bandit.update(bandit.action, reward)\n",
    "        hist.append(bandit.action)\n",
    "        \n",
    "    return hist,regret"
   ]
  },
  {
   "cell_type": "code",
   "execution_count": null,
   "metadata": {},
   "outputs": [],
   "source": [
    "bandit_greedy_sim_u=test_bandit_greedy(sim_u)\n",
    "bandit_greedy_sim_mix=test_bandit_greedy(sim_mix)\n",
    "bandit_greedy_sim=test_bandit_greedy(simulation)\n"
   ]
  },
  {
   "cell_type": "code",
   "execution_count": null,
   "metadata": {
    "scrolled": true
   },
   "outputs": [],
   "source": [
    "plt.plot(bandit_greedy_sim_u[1])\n",
    "plt.plot(bandit_greedy_sim[1])\n",
    "plt.plot(bandit_greedy_sim_mix[1])"
   ]
  },
  {
   "cell_type": "code",
   "execution_count": null,
   "metadata": {
    "scrolled": true
   },
   "outputs": [],
   "source": [
    "occ = sorted(Counter(bandit_greedy_sim_mix[0]).items(), key = lambda k : k[1])\n",
    "for index, nb_occ in occ : \n",
    "    print(f\"Bucket {index} -- Nb occ {nb_occ} -- Price {bandit.k_p[index]}\")"
   ]
  },
  {
   "cell_type": "code",
   "execution_count": null,
   "metadata": {},
   "outputs": [],
   "source": [
    "def test_bandit_ucb(simulation):\n",
    "    hist = []\n",
    "    regret = []\n",
    "    reward_T = []\n",
    "    bandit = UCBBandit(k_p)\n",
    "    evaluation=EvaluateBandit(bandit,simulation)\n",
    "    # Exploration round\n",
    "    for i in range(10):\n",
    "        for j in range(bandit.k):\n",
    "            bandit.chose_action(force_action=j)\n",
    "            price = k_p[bandit.action]\n",
    "            reward = int(simulation.evaluate(price)) * price\n",
    "            regret.append(evaluation.get_regret(bandit.n_obs))\n",
    "            bandit.update(bandit.action, reward)\n",
    "\n",
    "    for i in range(5000):\n",
    "        bandit.chose_action(method=\"UCB\")\n",
    "        price = k_p[bandit.action]\n",
    "        reward = int(simulation.evaluate(price)) * price\n",
    "        regret.append(evaluation.get_regret(bandit.n_obs))\n",
    "        bandit.update(bandit.action, reward)\n",
    "        hist.append(bandit.action)\n",
    "        \n",
    "    return hist,regret"
   ]
  },
  {
   "cell_type": "code",
   "execution_count": null,
   "metadata": {},
   "outputs": [],
   "source": [
    "bandit_ucb_sim_u=test_bandit_ucb(sim_u)\n",
    "bandit_ucb_sim_mix=test_bandit_ucb(sim_mix)\n",
    "bandit_ucb_sim=test_bandit_ucb(simulation)\n"
   ]
  },
  {
   "cell_type": "code",
   "execution_count": null,
   "metadata": {},
   "outputs": [],
   "source": [
    "plt.plot(bandit_ucb_sim_u[1])\n",
    "plt.plot(bandit_ucb_sim[1])\n",
    "plt.plot(bandit_ucb_sim_mix[1])"
   ]
  },
  {
   "cell_type": "code",
   "execution_count": null,
   "metadata": {},
   "outputs": [],
   "source": [
    "occ = sorted(Counter(bandit_ucb_sim_mix[0]).items(), key = lambda k : k[1])\n",
    "for index, nb_occ in occ : \n",
    "    print(f\"Bucket {index} -- Nb occ {nb_occ} -- Price {bandit.k_p[index]}\")"
   ]
  },
  {
   "cell_type": "markdown",
   "metadata": {},
   "source": [
    "## test du contextual bandit !"
   ]
  },
  {
   "cell_type": "code",
   "execution_count": null,
   "metadata": {},
   "outputs": [],
   "source": [
    "k_p=[1,50,100]\n",
    "size_context=4\n",
    "q_0=np.array([1,1,1,1])\n",
    "q_0= np.repeat(q_0[np.newaxis,:],len(k_p),axis=0)\n",
    "q_0[1]\n",
    "m_0=np.zeros(shape=(len(k_p),size_context))\n",
    "m_0"
   ]
  },
  {
   "cell_type": "code",
   "execution_count": null,
   "metadata": {},
   "outputs": [],
   "source": [
    "from src.context_bandit import ContextBandit\n",
    "bandit=ContextBandit(k_p,size_context,m_0,q_0)"
   ]
  },
  {
   "cell_type": "code",
   "execution_count": null,
   "metadata": {},
   "outputs": [],
   "source": [
    "j = 1"
   ]
  },
  {
   "cell_type": "code",
   "execution_count": null,
   "metadata": {},
   "outputs": [],
   "source": [
    "int(simulation.evaluate(price)) * price"
   ]
  },
  {
   "cell_type": "code",
   "execution_count": null,
   "metadata": {},
   "outputs": [],
   "source": [
    "sim_context.evaluate()"
   ]
  },
  {
   "cell_type": "code",
   "execution_count": null,
   "metadata": {},
   "outputs": [],
   "source": [
    "        bandit.chose_action(force_action=j)\n",
    "        price = k_p[bandit.action]\n",
    "        reward = int(simulation.evaluate(price)) * price\n",
    "        bandit.update(bandit.action, reward)"
   ]
  },
  {
   "cell_type": "code",
   "execution_count": null,
   "metadata": {},
   "outputs": [],
   "source": [
    "hist = []\n",
    "# Exploration round\n",
    "for i in range(size * 40):\n",
    "    for j in range(bandit.k):\n",
    "        bandit.chose_action(force_action=j)\n",
    "        price = k_p[bandit.action]\n",
    "        reward = int(simulation.evaluate(price)) * price\n",
    "        bandit.update(bandit.action, reward)\n",
    "\n",
    "for i in range(1000):\n",
    "    bandit.chose_action(method=\"thompson\")\n",
    "    price = k_p[bandit.action]\n",
    "    reward = int(simulation.evaluate(price)) * price\n",
    "    bandit.update(bandit.action, reward)\n",
    "    hist.append(bandit.action)"
   ]
  },
  {
   "cell_type": "code",
   "execution_count": null,
   "metadata": {},
   "outputs": [],
   "source": [
    "n=[3,4,5]\n",
    "np.random.randint([1,1,1],n)"
   ]
  },
  {
   "cell_type": "code",
   "execution_count": null,
   "metadata": {},
   "outputs": [],
   "source": [
    "dummies = [np.zeros(i) for i in n]\n",
    "for variable in dummies : \n",
    "    random_index = np.random.randint(len(variable))\n",
    "    variable[random_index] = 1\n",
    "    \n",
    "dummies = [y for x in dummies for y in x] # flat list"
   ]
  },
  {
   "cell_type": "code",
   "execution_count": null,
   "metadata": {},
   "outputs": [],
   "source": [
    "from src.context_generator import ContextGenerator"
   ]
  },
  {
   "cell_type": "code",
   "execution_count": null,
   "metadata": {},
   "outputs": [],
   "source": [
    "context_generator = ContextGenerator([1,2,3], [2,3,2], n_discrete=[2,4])"
   ]
  },
  {
   "cell_type": "code",
   "execution_count": null,
   "metadata": {},
   "outputs": [],
   "source": []
  },
  {
   "cell_type": "code",
   "execution_count": null,
   "metadata": {},
   "outputs": [],
   "source": []
  },
  {
   "cell_type": "code",
   "execution_count": null,
   "metadata": {},
   "outputs": [],
   "source": [
    "context_c, context_d = context_generator.simulate()\n",
    "\n",
    "beta_c = [1,2,1] \n",
    "beta_d = [[1,2], [6,8,3,1]]\n",
    "mu_e = 2\n",
    "sigma_e = 5\n",
    "\n",
    "demand_simulation = ContextualDemandSimulation(beta_c, beta_d, mu_e, sigma_e)"
   ]
  },
  {
   "cell_type": "code",
   "execution_count": null,
   "metadata": {},
   "outputs": [],
   "source": [
    "demand_simulation.evaluate(17, context_c, context_d)"
   ]
  },
  {
   "cell_type": "code",
   "execution_count": null,
   "metadata": {},
   "outputs": [],
   "source": [
    "class ContextualDemandSimulation():\n",
    "    \"\"\"\n",
    "    Demand simulation for contextual bandit v=BX +E\n",
    "    with X=(X_c X_d) and X_c ~G() ;X_d ~U() and ? E~simple simul ?\n",
    "    \"\"\"\n",
    "    def __init__(self,beta_c,beta_d,mu_e,sigma_e):\n",
    "        self.beta_c= np.array(beta_c)\n",
    "        self.beta_d = np.array(beta_d) #array with impact of each category\n",
    "        self.mu_e= np.array(mu_e)\n",
    "        self.sigma_e= np.array(sigma_e)\n",
    "    \n",
    "    def _get_context_impact(self, continuous_context, discrete_context):\n",
    "        # Continuous impact\n",
    "        cont = self.beta_c * np.array(continuous_context)\n",
    "        disc = [sum(np.array(beta) * np.array(disc)) for beta,disc in zip(beta_d, discrete)]        \n",
    "        return sum(cont) + sum(disc)\n",
    "    \n",
    "    def _simulate(self, continuous_context, discrete_context):\n",
    "        cont = self._get_context_impact(continuous_context, discrete_context)\n",
    "        s=-1\n",
    "        while s < 0:\n",
    "            s_i = np.random.normal(self.mu_e,self.sigma_e,1)\n",
    "            s=s_i + cont\n",
    "        return s[0]\n",
    "    \n",
    "    def evaluate(self,p, continuous_context, discrete_context):\n",
    "        \"\"\"\n",
    "        Return bool : True if buy False either\n",
    "        \"\"\"\n",
    "        sample = self._simulate(continuous_context, discrete_context)\n",
    "        return int(sample >= p)"
   ]
  },
  {
   "cell_type": "code",
   "execution_count": null,
   "metadata": {},
   "outputs": [],
   "source": []
  },
  {
   "cell_type": "code",
   "execution_count": null,
   "metadata": {},
   "outputs": [],
   "source": [
    "obs=np.array([2,3,6,0,5,0,8])\n",
    "pos=np.array([1,0,4,0])\n",
    "a= np.array([1,0,4,0])\n",
    "\n",
    "1*(obs==0)-1*(obs!=0)"
   ]
  },
  {
   "cell_type": "code",
   "execution_count": null,
   "metadata": {},
   "outputs": [],
   "source": [
    "t=np.array(range(4))\n",
    "t-"
   ]
  }
 ],
 "metadata": {
  "kernelspec": {
   "display_name": "Python 3",
   "language": "python",
   "name": "python3"
  },
  "language_info": {
   "codemirror_mode": {
    "name": "ipython",
    "version": 3
   },
   "file_extension": ".py",
   "mimetype": "text/x-python",
   "name": "python",
   "nbconvert_exporter": "python",
   "pygments_lexer": "ipython3",
   "version": "3.7.3"
  }
 },
 "nbformat": 4,
 "nbformat_minor": 2
}
