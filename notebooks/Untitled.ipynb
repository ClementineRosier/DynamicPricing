{
 "cells": [
  {
   "cell_type": "code",
   "execution_count": 1,
   "metadata": {},
   "outputs": [],
   "source": [
    "import numpy as np\n",
    "import seaborn as sns\n",
    "import pandas as pd\n",
    "import matplotlib.pyplot as plt\n",
    "from collections import Counter"
   ]
  },
  {
   "cell_type": "code",
   "execution_count": 2,
   "metadata": {},
   "outputs": [],
   "source": [
    "import sys\n",
    "sys.path.append(\"C:/Users/clementine.rosier/OneDrive - Ekimetrics/Documents/GitHub/dynamic_pricing\")\n",
    "\n",
    "%load_ext autoreload\n",
    "%autoreload 2"
   ]
  },
  {
   "cell_type": "code",
   "execution_count": 3,
   "metadata": {},
   "outputs": [
    {
     "ename": "ModuleNotFoundError",
     "evalue": "No module named 'src.simulations_contexte'",
     "output_type": "error",
     "traceback": [
      "\u001b[1;31m---------------------------------------------------------------------------\u001b[0m",
      "\u001b[1;31mModuleNotFoundError\u001b[0m                       Traceback (most recent call last)",
      "\u001b[1;32m<ipython-input-3-2a1e7b9b9fb9>\u001b[0m in \u001b[0;36m<module>\u001b[1;34m\u001b[0m\n\u001b[0;32m      5\u001b[0m \u001b[1;32mfrom\u001b[0m \u001b[0msrc\u001b[0m\u001b[1;33m.\u001b[0m\u001b[0msimple_bandit\u001b[0m \u001b[1;32mimport\u001b[0m \u001b[0mSimpleBandit\u001b[0m\u001b[1;33m\u001b[0m\u001b[1;33m\u001b[0m\u001b[0m\n\u001b[0;32m      6\u001b[0m \u001b[1;32mfrom\u001b[0m \u001b[0msrc\u001b[0m\u001b[1;33m.\u001b[0m\u001b[0mbinomial_bandit\u001b[0m \u001b[1;32mimport\u001b[0m \u001b[0mBinomialBandit\u001b[0m\u001b[1;33m\u001b[0m\u001b[1;33m\u001b[0m\u001b[0m\n\u001b[1;32m----> 7\u001b[1;33m \u001b[1;32mfrom\u001b[0m \u001b[0msrc\u001b[0m\u001b[1;33m.\u001b[0m\u001b[0msimulations_contexte\u001b[0m \u001b[1;32mimport\u001b[0m \u001b[0mContextSimulation\u001b[0m\u001b[1;33m\u001b[0m\u001b[1;33m\u001b[0m\u001b[0m\n\u001b[0m",
      "\u001b[1;31mModuleNotFoundError\u001b[0m: No module named 'src.simulations_contexte'"
     ]
    }
   ],
   "source": [
    "from src.simulations import SimpleSimulation\n",
    "from src.simulation_melange_gaussien import GSumSimulation\n",
    "from src.simulation_melange_gaussien import GMixSimulation\n",
    "from src.simulation_uniforme import UniformeSimulation\n",
    "from src.simple_bandit import SimpleBandit\n",
    "from src.binomial_bandit import BinomialBandit\n",
    "from src.simulations_contexte import ContextSimulation\n"
   ]
  },
  {
   "cell_type": "code",
   "execution_count": null,
   "metadata": {},
   "outputs": [],
   "source": [
    "simulation = SimpleSimulation(mu = 60, sigma=10)\n",
    "simulation.optimal_price"
   ]
  },
  {
   "cell_type": "code",
   "execution_count": null,
   "metadata": {},
   "outputs": [],
   "source": [
    "sim_u = UniformeSimulation(35,60)\n",
    "sim_u.optimal_price"
   ]
  },
  {
   "cell_type": "code",
   "execution_count": null,
   "metadata": {},
   "outputs": [],
   "source": [
    "sim_sum=GSumSimulation(45,12,20,2)\n",
    "sim_sum.optimal_price"
   ]
  },
  {
   "cell_type": "code",
   "execution_count": null,
   "metadata": {},
   "outputs": [],
   "source": [
    "sim_mix=GMixSimulation(45,12,80,2,0.25)\n",
    "sim_mix.optimal_price"
   ]
  },
  {
   "cell_type": "code",
   "execution_count": null,
   "metadata": {},
   "outputs": [],
   "source": [
    "beta_c=np.array([5,2,3])\n",
    "mu_c=np.array([3,50,87])\n",
    "sigma_c=np.array([1,9,10])\n",
    "beta_d=np.array([[1,-1,0],[2,100,-1]])\n",
    "n=np.array([2,3])\n",
    "mu_e=-300\n",
    "sigma_e=15\n",
    "\n",
    "sim_context =ContextSimulation(beta_c,mu_c,sigma_c,beta_d,n,mu_e,sigma_e)"
   ]
  },
  {
   "cell_type": "code",
   "execution_count": null,
   "metadata": {},
   "outputs": [],
   "source": [
    "def plot_demand(simulation, min_price = 0, max_price = 150, n_points = 50, n_estimates_per_point = 40) : \n",
    "    prices = []\n",
    "    revenues = []\n",
    "    for price in np.linspace(min_price, max_price, n_points) : \n",
    "        revenues.extend( [int(simulation.evaluate(price)) * price for x in range(n_estimates_per_point)] )\n",
    "        prices.extend([price for x in range(n_estimates_per_point)])\n",
    "    \n",
    "    a = np.array([prices, revenues])\n",
    "\n",
    "    fig = plt.figure(figsize = (15,6), facecolor=\"w\")\n",
    "    ax = sns.lineplot(a[0], a[1])\n",
    "    ax.legend(\"\")"
   ]
  },
  {
   "cell_type": "code",
   "execution_count": null,
   "metadata": {},
   "outputs": [],
   "source": [
    "plot_demand(simulation)\n",
    "plot_demand(sim_u)\n",
    "plot_demand(sim_sum)\n",
    "plot_demand(sim_mix)\n"
   ]
  },
  {
   "cell_type": "code",
   "execution_count": null,
   "metadata": {},
   "outputs": [],
   "source": [
    "plot_demand(sim_context,0,  400, 50,  40)\n"
   ]
  },
  {
   "cell_type": "code",
   "execution_count": null,
   "metadata": {},
   "outputs": [],
   "source": [
    "for _  in range(5):\n",
    "    sim_context._simulate()\n",
    "    print (sim_context.context[1])"
   ]
  },
  {
   "cell_type": "markdown",
   "metadata": {},
   "source": [
    "### Try simple bandit algorithm on the simulations"
   ]
  },
  {
   "cell_type": "code",
   "execution_count": null,
   "metadata": {},
   "outputs": [],
   "source": [
    "size = 30\n",
    "\n",
    "k_p = np.linspace(20,80,size)\n",
    "alpha_0 = np.repeat(6,size)\n",
    "beta_0 = np.repeat(6,size)\n",
    "\n",
    "bandit = BinomialBandit(k_p, alpha_0, beta_0)"
   ]
  },
  {
   "cell_type": "code",
   "execution_count": null,
   "metadata": {},
   "outputs": [],
   "source": [
    "def test_bandit(simulation):\n",
    "    hist = []\n",
    "    bandit = BinomialBandit(k_p, alpha_0, beta_0)\n",
    "    # Exploration round\n",
    "    for i in range(size * 40):\n",
    "        for j in range(bandit.k):\n",
    "            bandit.chose_action(force_action=j)\n",
    "            price = k_p[bandit.action]\n",
    "            reward = int(simulation.evaluate(price)) * price\n",
    "            bandit.update(bandit.action, reward)\n",
    "\n",
    "    for i in range(1000):\n",
    "        bandit.chose_action(method=\"thompson\")\n",
    "        price = k_p[bandit.action]\n",
    "        reward = int(simulation.evaluate(price)) * price\n",
    "        bandit.update(bandit.action, reward)\n",
    "        hist.append(bandit.action)\n",
    "    return hist"
   ]
  },
  {
   "cell_type": "code",
   "execution_count": null,
   "metadata": {},
   "outputs": [],
   "source": [
    "#simulation somme de normale\n",
    "hist_sum=test_bandit(sim_sum)\n",
    "occ = sorted(Counter(hist_sum).items(), key = lambda k : k[1])\n",
    "for index, nb_occ in occ : \n",
    "    print(f\"Bucket {index} -- Nb occ {nb_occ} -- Price {bandit.k_p[index]}\")"
   ]
  },
  {
   "cell_type": "code",
   "execution_count": null,
   "metadata": {},
   "outputs": [],
   "source": [
    "#simulation uniforme\n",
    "hist_u=test_bandit(sim_u)\n",
    "occ = sorted(Counter(hist_u).items(), key = lambda k : k[1])\n",
    "for index, nb_occ in occ : \n",
    "    print(f\"Bucket {index} -- Nb occ {nb_occ} -- Price {bandit.k_p[index]}\")"
   ]
  },
  {
   "cell_type": "code",
   "execution_count": null,
   "metadata": {},
   "outputs": [],
   "source": [
    "#simulation mélange gaussien\n",
    "hist_mix=test_bandit(sim_mix)\n",
    "occ = sorted(Counter(hist_mix).items(), key = lambda k : k[1])\n",
    "for index, nb_occ in occ : \n",
    "    print(f\"Bucket {index} -- Nb occ {nb_occ} -- Price {bandit.k_p[index]}\")"
   ]
  },
  {
   "cell_type": "code",
   "execution_count": null,
   "metadata": {},
   "outputs": [],
   "source": []
  }
 ],
 "metadata": {
  "kernelspec": {
   "display_name": "Python 3",
   "language": "python",
   "name": "python3"
  },
  "language_info": {
   "codemirror_mode": {
    "name": "ipython",
    "version": 3
   },
   "file_extension": ".py",
   "mimetype": "text/x-python",
   "name": "python",
   "nbconvert_exporter": "python",
   "pygments_lexer": "ipython3",
   "version": "3.7.3"
  }
 },
 "nbformat": 4,
 "nbformat_minor": 2
}
