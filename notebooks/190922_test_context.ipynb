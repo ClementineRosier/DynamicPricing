{
 "cells": [
  {
   "cell_type": "code",
   "execution_count": 1,
   "metadata": {},
   "outputs": [],
   "source": [
    "import numpy as np\n",
    "import seaborn as sns\n",
    "import pandas as pd\n",
    "import matplotlib.pyplot as plt\n",
    "from collections import Counter\n",
    "from scipy.stats import norm, invgamma, beta, bernoulli\n",
    "%matplotlib notebook"
   ]
  },
  {
   "cell_type": "code",
   "execution_count": 2,
   "metadata": {},
   "outputs": [],
   "source": [
    "import sys\n",
    "sys.path.append(\"C:/Users/clementine.rosier/OneDrive - Ekimetrics/Documents/GitHub/dynamic_pricing\")\n",
    "\n",
    "%load_ext autoreload\n",
    "%autoreload 2"
   ]
  },
  {
   "cell_type": "code",
   "execution_count": 3,
   "metadata": {},
   "outputs": [
    {
     "name": "stdout",
     "output_type": "stream",
     "text": [
      "The autoreload extension is already loaded. To reload it, use:\n",
      "  %reload_ext autoreload\n"
     ]
    }
   ],
   "source": [
    "import sys\n",
    "sys.path.append(\"C:/Users/clementine.rosier/OneDrive - Ekimetrics/Documents/GitHub/dynamic_pricing\")\n",
    "\n",
    "%load_ext autoreload\n",
    "%autoreload 2"
   ]
  },
  {
   "cell_type": "code",
   "execution_count": 4,
   "metadata": {},
   "outputs": [],
   "source": [
    "from src.binomial_bandit import BinomialBandit\n",
    "from src.context_generator import ContextGenerator\n",
    "from src.simulation_with_context import ContextualDemandSimulation\n",
    "from src.evaluate_model import EvaluateBandit\n",
    "from src.evaluate_with_context import EvaluateBanditContext\n"
   ]
  },
  {
   "cell_type": "code",
   "execution_count": 38,
   "metadata": {},
   "outputs": [],
   "source": [
    "beta_c=np.array([5,2,3])\n",
    "mu_c=np.array([3,50,87])\n",
    "sigma_c=np.array([1,9,10])\n",
    "beta_d=np.array([[1,-1],[2,100,-1]])\n",
    "n=np.array([2,3])\n",
    "mu_e=-300\n",
    "sigma_e=15\n",
    "#instantiate context simulation\n",
    "context_generator = ContextGenerator(mu_c,sigma_c,n)\n",
    "\n",
    "#instantiate demand simulation\n",
    "demand_simulation = ContextualDemandSimulation(beta_c, beta_d, mu_e, sigma_e)\n",
    "\n",
    "# Instanciate bandit\n",
    "size_context= len(mu_c) + sum(n) + 1"
   ]
  },
  {
   "cell_type": "code",
   "execution_count": 39,
   "metadata": {},
   "outputs": [],
   "source": [
    "size = 30\n",
    "k_p = np.linspace(20,80,size)\n",
    "alpha_0 = np.repeat(6,size)\n",
    "beta_0 = np.repeat(6,size)"
   ]
  },
  {
   "cell_type": "code",
   "execution_count": 40,
   "metadata": {},
   "outputs": [
    {
     "name": "stdout",
     "output_type": "stream",
     "text": [
      "BinomialBandit model instanciated with 30 arms.\n"
     ]
    }
   ],
   "source": [
    "hist = []\n",
    "regret = []\n",
    "reward_T = []\n",
    "parameters=np.array([np.array([alpha_0]),np.array([beta_0])])\n",
    "bandit = BinomialBandit(k_p, alpha_0, beta_0)\n",
    "evaluation=EvaluateBanditContext(bandit,demand_simulation)"
   ]
  },
  {
   "cell_type": "code",
   "execution_count": 41,
   "metadata": {},
   "outputs": [],
   "source": [
    "j=1\n",
    "context_c, context_d = context_generator.simulate()\n",
    "bandit.chose_action(force_action=j)\n",
    "price = k_p[bandit.action]\n",
    "reward = int(demand_simulation.evaluate(price,context_c, context_d)) * price\n",
    "regret.append(evaluation.get_regret(bandit.n_obs,bandit.action,context_c, context_d))\n",
    "bandit.update(bandit.action, reward)\n",
    "parameters = np.append(parameters,np.array([np.array([bandit.alpha_n]),np.array([bandit.beta_n])]),axis=1)"
   ]
  },
  {
   "cell_type": "code",
   "execution_count": 52,
   "metadata": {},
   "outputs": [],
   "source": [
    "def test_simplebandit_context(simulation):\n",
    "    hist = []\n",
    "    regret = []\n",
    "    reward_T = []\n",
    "    parameters=np.array([np.array([alpha_0]),np.array([beta_0])])\n",
    "    bandit = BinomialBandit(k_p, alpha_0, beta_0)\n",
    "    evaluation=EvaluateBanditContext(bandit,simulation)\n",
    "    # Exploration round\n",
    "    for i in range(30):\n",
    "        for j in range(bandit.k):\n",
    "            context_c, context_d = context_generator.simulate()\n",
    "            bandit.chose_action(force_action=j)\n",
    "            price = k_p[bandit.action]\n",
    "            reward = int(simulation.evaluate(price,context_c, context_d)) * price\n",
    "            regret.append(evaluation.get_regret(bandit.n_obs,bandit.action,context_c, context_d))\n",
    "            bandit.update(bandit.action, reward)\n",
    "            parameters = np.append(parameters,np.array([np.array([bandit.alpha_n]),np.array([bandit.beta_n])]),axis=1)\n",
    "\n",
    "    for i in range(3000):\n",
    "        context_c, context_d = context_generator.simulate()\n",
    "        bandit.chose_action(method=\"thompson\")\n",
    "        price = k_p[bandit.action]\n",
    "        reward = int(simulation.evaluate(price,context_c, context_d)) * price\n",
    "        regret.append(evaluation.get_regret(bandit.n_obs,bandit.action,context_c, context_d))\n",
    "        bandit.update(bandit.action, reward)\n",
    "        hist.append(bandit.action)\n",
    "        parameters = np.append(parameters,np.array([np.array([bandit.alpha_n]),np.array([bandit.beta_n])]),axis=1)\n",
    "    return hist,regret,parameters"
   ]
  },
  {
   "cell_type": "code",
   "execution_count": 53,
   "metadata": {},
   "outputs": [
    {
     "name": "stdout",
     "output_type": "stream",
     "text": [
      "BinomialBandit model instanciated with 30 arms.\n"
     ]
    }
   ],
   "source": [
    "bandit_context_simple=test_simplebandit_context(demand_simulation)"
   ]
  },
  {
   "cell_type": "code",
   "execution_count": 54,
   "metadata": {},
   "outputs": [
    {
     "data": {
      "text/plain": [
       "[<matplotlib.lines.Line2D at 0x221001786a0>]"
      ]
     },
     "execution_count": 54,
     "metadata": {},
     "output_type": "execute_result"
    },
    {
     "data": {
      "image/png": "[encoded data removed]",
      "text/plain": [
       "<Figure size 432x288 with 1 Axes>"
      ]
     },
     "metadata": {
      "needs_background": "light"
     },
     "output_type": "display_data"
    }
   ],
   "source": [
    "plt.plot(bandit_context_simple[1])"
   ]
  },
  {
   "cell_type": "code",
   "execution_count": 56,
   "metadata": {},
   "outputs": [],
   "source": [
    "#instantiate for contextual bandit\n",
    "norm_mean = 0\n",
    "norm_std = 1\n",
    "m_0 = np.zeros(shape=(len(k_p),size_context)) + norm_mean\n",
    "q_0 = np.zeros(shape=(len(k_p),size_context)) + norm_std"
   ]
  },
  {
   "cell_type": "code",
   "execution_count": 57,
   "metadata": {},
   "outputs": [],
   "source": [
    "def test_contextualbandit_context(simulation):\n",
    "    hist = []\n",
    "    regret = []\n",
    "    reward_T = []\n",
    "    parameters=np.array([np.array([m_0]),np.array([q_0])])\n",
    "    bandit = ContextBandit(k_p,size_context,m_0,q_0)\n",
    "    evaluation=EvaluateBanditContext(bandit,simulation)\n",
    "    # Exploration round\n",
    "    for i in range(30):\n",
    "        for j in range(bandit.k):\n",
    "            context_c, context_d = context_generator.simulate()\n",
    "            bandit.chose_action(force_action=j)\n",
    "            price = k_p[bandit.action]\n",
    "            reward = int(simulation.evaluate(price,context_c, context_d)) * price\n",
    "            regret.append(evaluation.get_regret(bandit.n_obs,bandit.action,context_c, context_d))\n",
    "            bandit.update(bandit.action, reward)\n",
    "            parameters = np.append(parameters,np.array([np.array([bandit.m_n]),np.array([bandit.q_n])]),axis=1)\n",
    "\n",
    "    for i in range(3000):\n",
    "        context_c, context_d = context_generator.simulate()\n",
    "        bandit.chose_action(method=\"thompson\")\n",
    "        price = k_p[bandit.action]\n",
    "        reward = int(simulation.evaluate(price,context_c, context_d)) * price\n",
    "        regret.append(evaluation.get_regret(bandit.n_obs,bandit.action,context_c, context_d))\n",
    "        bandit.update(bandit.action, reward)\n",
    "        hist.append(bandit.action)\n",
    "        parameters = np.append(parameters,np.array([np.array([bandit.m_n]),np.array([bandit.q_n])]),axis=1)\n",
    "    return hist,regret,parameters"
   ]
  },
  {
   "cell_type": "code",
   "execution_count": 58,
   "metadata": {},
   "outputs": [
    {
     "name": "stdout",
     "output_type": "stream",
     "text": [
      "BinomialBandit model instanciated with 30 arms.\n"
     ]
    }
   ],
   "source": [
    "bandit_context_simple=test_simplebandit_context(demand_simulation)"
   ]
  },
  {
   "cell_type": "code",
   "execution_count": 59,
   "metadata": {},
   "outputs": [
    {
     "data": {
      "text/plain": [
       "[<matplotlib.lines.Line2D at 0x22100146a90>]"
      ]
     },
     "execution_count": 59,
     "metadata": {},
     "output_type": "execute_result"
    },
    {
     "data": {
      "image/png": "[encoded data removed]",
      "text/plain": [
       "<Figure size 432x288 with 1 Axes>"
      ]
     },
     "metadata": {
      "needs_background": "light"
     },
     "output_type": "display_data"
    }
   ],
   "source": [
    "plt.plot(bandit_context_simple[1])"
   ]
  },
  {
   "cell_type": "code",
   "execution_count": null,
   "metadata": {},
   "outputs": [],
   "source": []
  }
 ],
 "metadata": {
  "kernelspec": {
   "display_name": "Python 3",
   "language": "python",
   "name": "python3"
  },
  "language_info": {
   "codemirror_mode": {
    "name": "ipython",
    "version": 3
   },
   "file_extension": ".py",
   "mimetype": "text/x-python",
   "name": "python",
   "nbconvert_exporter": "python",
   "pygments_lexer": "ipython3",
   "version": "3.7.3"
  }
 },
 "nbformat": 4,
 "nbformat_minor": 2
}
