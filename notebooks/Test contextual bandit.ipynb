{
 "cells": [
  {
   "cell_type": "code",
   "execution_count": 1,
   "metadata": {},
   "outputs": [],
   "source": [
    "import numpy as np\n",
    "import seaborn as sns\n",
    "import pandas as pd\n",
    "import matplotlib.pyplot as plt\n",
    "from collections import Counter"
   ]
  },
  {
   "cell_type": "code",
   "execution_count": 2,
   "metadata": {},
   "outputs": [],
   "source": [
    "import sys\n",
    "sys.path.append(\"C:/Users/clementine.rosier/OneDrive - Ekimetrics/Documents/GitHub/dynamic_pricing\")\n",
    "\n",
    "%load_ext autoreload\n",
    "%autoreload 2"
   ]
  },
  {
   "cell_type": "code",
   "execution_count": 3,
   "metadata": {},
   "outputs": [],
   "source": [
    "from src.context_generator import ContextGenerator\n",
    "from src.simulation_with_context import ContextualDemandSimulation\n",
    "from src.context_bandit import ContextBandit"
   ]
  },
  {
   "cell_type": "code",
   "execution_count": 4,
   "metadata": {},
   "outputs": [
    {
     "name": "stdout",
     "output_type": "stream",
     "text": [
      "ContextBandit model instanciated with 9 arms.\n"
     ]
    }
   ],
   "source": [
    "# Instanciate context\n",
    "mu_context = [1,5]\n",
    "sigma_context = [2,2]\n",
    "n_discrete = [2,3]\n",
    "context_generator = ContextGenerator(mu_context, sigma_context, n_discrete)\n",
    "\n",
    "# Instanciate demand simulation\n",
    "beta_c = [1,6] \n",
    "beta_d = [[1,-2], [6,8,-3]]\n",
    "mu_e = 50\n",
    "sigma_e = 1\n",
    "demand_simulation = ContextualDemandSimulation(beta_c, beta_d, mu_e, sigma_e)\n",
    "\n",
    "# Instanciate bandit\n",
    "size_context= len(mu_context) + sum(n_discrete) + 1\n",
    "\n",
    "k_p = [10,25,15,20,30,50,35,40,5]\n",
    "norm_mean = 0\n",
    "norm_std = 1\n",
    "m_0 = np.zeros(shape=(len(k_p),size_context)) + norm_mean\n",
    "q_0 = np.zeros(shape=(len(k_p),size_context)) + norm_std\n",
    "\n",
    "bandit=ContextBandit(k_p, size_context, m_0, q_0)"
   ]
  },
  {
   "cell_type": "code",
   "execution_count": 6,
   "metadata": {},
   "outputs": [
    {
     "ename": "KeyboardInterrupt",
     "evalue": "",
     "output_type": "error",
     "traceback": [
      "\u001b[1;31m---------------------------------------------------------------------------\u001b[0m",
      "\u001b[1;31mKeyboardInterrupt\u001b[0m                         Traceback (most recent call last)",
      "\u001b[1;32m<ipython-input-6-0f71e683d33d>\u001b[0m in \u001b[0;36m<module>\u001b[1;34m\u001b[0m\n\u001b[0;32m     10\u001b[0m         \u001b[0mbandit\u001b[0m\u001b[1;33m.\u001b[0m\u001b[0mchose_action\u001b[0m\u001b[1;33m(\u001b[0m\u001b[0mbandit_context\u001b[0m\u001b[1;33m,\u001b[0m \u001b[0mforce_action\u001b[0m\u001b[1;33m=\u001b[0m\u001b[0mj\u001b[0m\u001b[1;33m)\u001b[0m\u001b[1;33m\u001b[0m\u001b[1;33m\u001b[0m\u001b[0m\n\u001b[0;32m     11\u001b[0m         \u001b[0mprice\u001b[0m \u001b[1;33m=\u001b[0m \u001b[0mk_p\u001b[0m\u001b[1;33m[\u001b[0m\u001b[0mbandit\u001b[0m\u001b[1;33m.\u001b[0m\u001b[0maction\u001b[0m\u001b[1;33m]\u001b[0m\u001b[1;33m\u001b[0m\u001b[1;33m\u001b[0m\u001b[0m\n\u001b[1;32m---> 12\u001b[1;33m         \u001b[0mreward\u001b[0m \u001b[1;33m=\u001b[0m \u001b[0mdemand_simulation\u001b[0m\u001b[1;33m.\u001b[0m\u001b[0mevaluate\u001b[0m\u001b[1;33m(\u001b[0m\u001b[0mprice\u001b[0m\u001b[1;33m,\u001b[0m \u001b[0mcontext_c\u001b[0m\u001b[1;33m,\u001b[0m \u001b[0mcontext_d\u001b[0m\u001b[1;33m)\u001b[0m \u001b[1;33m*\u001b[0m \u001b[0mprice\u001b[0m\u001b[1;33m\u001b[0m\u001b[1;33m\u001b[0m\u001b[0m\n\u001b[0m\u001b[0;32m     13\u001b[0m         \u001b[1;31m# Update params\u001b[0m\u001b[1;33m\u001b[0m\u001b[1;33m\u001b[0m\u001b[1;33m\u001b[0m\u001b[0m\n\u001b[0;32m     14\u001b[0m         \u001b[0mbandit\u001b[0m\u001b[1;33m.\u001b[0m\u001b[0mupdate\u001b[0m\u001b[1;33m(\u001b[0m\u001b[0mreward\u001b[0m\u001b[1;33m,\u001b[0m \u001b[0mbandit_context\u001b[0m\u001b[1;33m)\u001b[0m\u001b[1;33m\u001b[0m\u001b[1;33m\u001b[0m\u001b[0m\n",
      "\u001b[1;32mC:/Users/clementine.rosier/OneDrive - Ekimetrics/Documents/GitHub/dynamic_pricing\\src\\simulation_with_context.py\u001b[0m in \u001b[0;36mevaluate\u001b[1;34m(self, p, continuous_context, discrete_context)\u001b[0m\n\u001b[0;32m     35\u001b[0m         \u001b[0mReturn\u001b[0m \u001b[0mbool\u001b[0m \u001b[1;33m:\u001b[0m \u001b[1;32mTrue\u001b[0m \u001b[1;32mif\u001b[0m \u001b[0mbuy\u001b[0m \u001b[1;32mFalse\u001b[0m \u001b[0meither\u001b[0m\u001b[1;33m\u001b[0m\u001b[1;33m\u001b[0m\u001b[0m\n\u001b[0;32m     36\u001b[0m         \"\"\"\n\u001b[1;32m---> 37\u001b[1;33m         \u001b[0msample\u001b[0m \u001b[1;33m=\u001b[0m \u001b[0mself\u001b[0m\u001b[1;33m.\u001b[0m\u001b[0m_simulate\u001b[0m\u001b[1;33m(\u001b[0m\u001b[0mcontinuous_context\u001b[0m\u001b[1;33m,\u001b[0m \u001b[0mdiscrete_context\u001b[0m\u001b[1;33m)\u001b[0m\u001b[1;33m\u001b[0m\u001b[1;33m\u001b[0m\u001b[0m\n\u001b[0m\u001b[0;32m     38\u001b[0m         \u001b[1;32mreturn\u001b[0m \u001b[0mint\u001b[0m\u001b[1;33m(\u001b[0m\u001b[0msample\u001b[0m \u001b[1;33m>=\u001b[0m \u001b[0mp\u001b[0m\u001b[1;33m)\u001b[0m\u001b[1;33m\u001b[0m\u001b[1;33m\u001b[0m\u001b[0m\n\u001b[0;32m     39\u001b[0m \u001b[1;33m\u001b[0m\u001b[0m\n",
      "\u001b[1;32mC:/Users/clementine.rosier/OneDrive - Ekimetrics/Documents/GitHub/dynamic_pricing\\src\\simulation_with_context.py\u001b[0m in \u001b[0;36m_simulate\u001b[1;34m(self, continuous_context, discrete_context)\u001b[0m\n\u001b[0;32m     27\u001b[0m         \u001b[0ms\u001b[0m\u001b[1;33m=\u001b[0m\u001b[1;33m-\u001b[0m\u001b[1;36m1\u001b[0m\u001b[1;33m\u001b[0m\u001b[1;33m\u001b[0m\u001b[0m\n\u001b[0;32m     28\u001b[0m         \u001b[1;32mwhile\u001b[0m \u001b[0ms\u001b[0m \u001b[1;33m<\u001b[0m \u001b[1;36m0\u001b[0m\u001b[1;33m:\u001b[0m\u001b[1;33m\u001b[0m\u001b[1;33m\u001b[0m\u001b[0m\n\u001b[1;32m---> 29\u001b[1;33m             \u001b[0ms_i\u001b[0m \u001b[1;33m=\u001b[0m \u001b[0mnp\u001b[0m\u001b[1;33m.\u001b[0m\u001b[0mrandom\u001b[0m\u001b[1;33m.\u001b[0m\u001b[0mnormal\u001b[0m\u001b[1;33m(\u001b[0m\u001b[0mself\u001b[0m\u001b[1;33m.\u001b[0m\u001b[0mmu_e\u001b[0m\u001b[1;33m,\u001b[0m\u001b[0mself\u001b[0m\u001b[1;33m.\u001b[0m\u001b[0msigma_e\u001b[0m\u001b[1;33m,\u001b[0m\u001b[1;36m1\u001b[0m\u001b[1;33m)\u001b[0m\u001b[1;33m\u001b[0m\u001b[1;33m\u001b[0m\u001b[0m\n\u001b[0m\u001b[0;32m     30\u001b[0m             \u001b[0ms\u001b[0m\u001b[1;33m=\u001b[0m\u001b[0ms_i\u001b[0m \u001b[1;33m+\u001b[0m \u001b[0mcont\u001b[0m\u001b[1;33m\u001b[0m\u001b[1;33m\u001b[0m\u001b[0m\n\u001b[0;32m     31\u001b[0m         \u001b[1;32mreturn\u001b[0m \u001b[0ms\u001b[0m\u001b[1;33m[\u001b[0m\u001b[1;36m0\u001b[0m\u001b[1;33m]\u001b[0m\u001b[1;33m\u001b[0m\u001b[1;33m\u001b[0m\u001b[0m\n",
      "\u001b[1;31mKeyboardInterrupt\u001b[0m: "
     ]
    }
   ],
   "source": [
    "hist = []\n",
    "# Exploration round\n",
    "for i in range(300):\n",
    "    for j in range(bandit.k):\n",
    "        #bandit.chose_action(bandit_context, force_action=j)\n",
    "        #price = k_p[bandit.action]\n",
    "        # Simulate context and observe reward\n",
    "        context_c, context_d = context_generator.simulate()\n",
    "        bandit_context = np.array(context_c + [y for x in context_d for y in x] + [1])\n",
    "        bandit.chose_action(bandit_context, force_action=j)\n",
    "        price = k_p[bandit.action]\n",
    "        reward = demand_simulation.evaluate(price, context_c, context_d) * price\n",
    "        # Update params\n",
    "        bandit.update(reward, bandit_context)\n",
    "\n",
    "for i in range(100):\n",
    "    # Simulate context and observe reward\n",
    "    context_c, context_d = context_generator.simulate()\n",
    "    bandit_context = np.array(context_c + [y for x in context_d for y in x] + [1])\n",
    "    bandit.chose_action(bandit_context, method=\"thompson\")\n",
    "    price = k_p[bandit.action]\n",
    "    reward = demand_simulation.evaluate(price, context_c, context_d) * price\n",
    "    optimal_price=demand_simulation.get_optimal_price(context_c, context_d)\n",
    "    optimal_revenue =-demand_simulation.compute_revenue(optimal_price,context_c, context_d)\n",
    "    print(price,reward,optimal_price,optimal_revenue)\n",
    "    \n",
    "    # Update params\n",
    "    bandit.update(reward, bandit_context)\n",
    "    hist.append(bandit.action)\n",
    "    "
   ]
  },
  {
   "cell_type": "code",
   "execution_count": null,
   "metadata": {},
   "outputs": [],
   "source": [
    "occ = sorted(Counter(hist).items(), key = lambda k : k[1])\n",
    "for index, nb_occ in occ : \n",
    "    print(f\"Bucket {index} -- Nb occ {nb_occ} -- Price {bandit.k_p[index]}\")"
   ]
  },
  {
   "cell_type": "code",
   "execution_count": null,
   "metadata": {},
   "outputs": [],
   "source": [
    "j=1\n",
    "bandit.chose_action(bandit_context, force_action=j)\n",
    "price = k_p[bandit.action]\n",
    "# Simulate context and observe reward\n",
    "context_c, context_d = context_generator.simulate()\n",
    "bandit_context = np.array(context_c + [y for x in context_d for y in x] + [1])\n",
    "reward = demand_simulation.evaluate(price, context_c, context_d) * price\n",
    "# Update params\n",
    "bandit.update(reward, bandit_context)"
   ]
  },
  {
   "cell_type": "code",
   "execution_count": null,
   "metadata": {},
   "outputs": [],
   "source": [
    "demand_simulation.get_optimal_price(context_c, context_d)"
   ]
  },
  {
   "cell_type": "code",
   "execution_count": null,
   "metadata": {},
   "outputs": [],
   "source": []
  }
 ],
 "metadata": {
  "kernelspec": {
   "display_name": "Python 3",
   "language": "python",
   "name": "python3"
  },
  "language_info": {
   "codemirror_mode": {
    "name": "ipython",
    "version": 3
   },
   "file_extension": ".py",
   "mimetype": "text/x-python",
   "name": "python",
   "nbconvert_exporter": "python",
   "pygments_lexer": "ipython3",
   "version": "3.7.3"
  }
 },
 "nbformat": 4,
 "nbformat_minor": 2
}
